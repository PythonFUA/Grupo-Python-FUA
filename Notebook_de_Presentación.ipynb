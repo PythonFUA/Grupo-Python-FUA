{
  "nbformat": 4,
  "nbformat_minor": 0,
  "metadata": {
    "colab": {
      "name": "Notebook de Presentación.ipynb",
      "provenance": [],
      "collapsed_sections": []
    },
    "kernelspec": {
      "name": "python3",
      "display_name": "Python 3"
    },
    "language_info": {
      "name": "python"
    }
  },
  "cells": [
    {
      "cell_type": "markdown",
      "metadata": {
        "id": "05sTt4oUk-PI"
      },
      "source": [
        "<p><img alt=\"logo.fua\" height=\"100px\" src=\"https://github.com/josorio398/ALGEBRA-LINEAL-CON-PYTHON/blob/master/im%C3%A1genes%20repositorio/Logo%20UAm%C3%A9rica%20nuevo%202021.ai_page-0005.jpg?raw=true\" align=\"left\" hspace=\"0px\" vspace=\"0px\"></p>\n",
        "\n",
        "<p><img alt=\"logo.fua\" height=\"26px\" src=\"https://mirrors.creativecommons.org/presskit/buttons/88x31/svg/by-nd.svg\" align=\"right\" hspace=\"0px\" vspace=\"11px\"></p>\n",
        "\n",
        "\n",
        "<center> <font size=\"6\"><b>CURSO INTRODUCCIÓN A PYTHON &nbsp; &nbsp; &nbsp;&nbsp;</b><center><I>Jhonny Osorio Gallego</I> &nbsp; &nbsp;&nbsp; &nbsp;&nbsp;&nbsp;&nbsp; &nbsp; &nbsp;&nbsp; &nbsp;<p></font></center> "
      ]
    },
    {
      "cell_type": "markdown",
      "metadata": {
        "id": "cySqRS4TBxOj"
      },
      "source": [
        "#  **ESTRUCTURAS DE CONTROL REPETITIVAS**"
      ]
    },
    {
      "cell_type": "markdown",
      "metadata": {
        "id": "67Loghr6Mh9i"
      },
      "source": [
        "##   **Instalación de la librería PlotLinearAlgebra**\n",
        "a librería **PlotLinearAlgebra** fue creada para la visualización bidimensional y tridimensional de objetos geométricos abordados en un curso de álgebra lineal, apoyado desde el lenguaje de programación Python, en particular con el uso de la librería de cálculo simbólico SymPy.[PlotLinearAlgebra](https://pypi.org/project/PlotLinearAlgebra/)"
      ]
    },
    {
      "cell_type": "code",
      "metadata": {
        "id": "p3L0tD2OdHJ8"
      },
      "source": [
        "pip install PlotLinearAlgebra"
      ],
      "execution_count": null,
      "outputs": []
    },
    {
      "cell_type": "markdown",
      "metadata": {
        "id": "LwSL5TpAMy0N"
      },
      "source": [
        "##   **Importamos los módulos de graficación plot2D y plot3D**\n",
        "El módulo **plot2d** permite graficar : puntos, rectas y vectores en el espacio bidimensional, contiene la función plot2D, el módulo **plot3d** permite graficar : puntos, rectas, vectores y planos en el espacio tridimensional, contiene la función plot3D."
      ]
    },
    {
      "cell_type": "code",
      "metadata": {
        "id": "lcxlW56WdWGY"
      },
      "source": [
        "from PlotLinearAlgebra.plot2d import *"
      ],
      "execution_count": null,
      "outputs": []
    },
    {
      "cell_type": "code",
      "metadata": {
        "id": "sxPOLetaj_35"
      },
      "source": [
        "from PlotLinearAlgebra.plot3d import *"
      ],
      "execution_count": null,
      "outputs": []
    },
    {
      "cell_type": "markdown",
      "metadata": {
        "id": "y7kFwt-idB6L"
      },
      "source": [
        "\n",
        "\n",
        "Son las que permiten modificar el flujo de ejecución de las instrucciones de un programa."
      ]
    },
    {
      "cell_type": "markdown",
      "metadata": {
        "id": "2kEtcL-xVkKi"
      },
      "source": [
        "# **Expresiones booleanas** \n",
        "Son aquellas cuyo valor es verdadero (True) o falso (False)\n",
        "\n",
        "### **Ejemplos**:"
      ]
    },
    {
      "cell_type": "code",
      "metadata": {
        "id": "xYKv6TKzWyXo"
      },
      "source": [
        ""
      ],
      "execution_count": null,
      "outputs": []
    },
    {
      "cell_type": "code",
      "metadata": {
        "id": "18tJtz1NW7-j"
      },
      "source": [
        ""
      ],
      "execution_count": null,
      "outputs": []
    },
    {
      "cell_type": "markdown",
      "metadata": {
        "id": "DovHXQwhxDsB"
      },
      "source": [
        "<p><height=\"45px\" src=\"<a href=\"https://ibb.co/pZYMC0T\"><img src=\"https://i.ibb.co/Gkz8gxD/actividad.png\" align=\"left\" alt=\"\" width=\"4%\" height=\"5%\"></a><p>\n",
        "<font size=5><strong>&nbsp;Actividad de practica 1:</strong></font> \n",
        "\n",
        "Escribe un codigo cuyo valor sea de tipo booleano."
      ]
    },
    {
      "cell_type": "code",
      "metadata": {
        "id": "uNoEzhi7VFIo"
      },
      "source": [
        ""
      ],
      "execution_count": null,
      "outputs": []
    },
    {
      "cell_type": "markdown",
      "source": [
        "<p><height=\"45px\" src=\"<a href=\"https://ibb.co/pZYMC0T\"><img src=\"https://i.ibb.co/ZL1WsdZ/poll.png\" align=\"left\" alt=\"\" width=\"4%\" height=\"5%\"></a><p> <H3><strong>&nbsp;Ejercicio 1:</strong>¿Cuál es el resultado de este código?"
      ],
      "metadata": {
        "id": "ed3RcGWPrk9D"
      }
    },
    {
      "cell_type": "markdown",
      "metadata": {
        "id": "Asfln-fGgi8L"
      },
      "source": [
        "#  **Estructuras de control no repetitivas** (**if**, **if-else**, **elif**)\n"
      ]
    },
    {
      "cell_type": "markdown",
      "metadata": {
        "id": "D548fR6ZT9yp"
      },
      "source": [
        "\n",
        "## **Instrucción if simple**\n",
        "Puede usar sentencias **if** para ejecutar un código si se cumple una determinada condición.\n",
        "Si una expresión se evalúa como **True** (verdadera), se llevan a cabo las instrucciones indentadas. De lo contrario, no se llevan a cabo , el formato es el siguiente:\n",
        " \n",
        "<font size=\"4\"> <div>\n",
        "<div><span><strong>&nbsp; &nbsp; &nbsp; &nbsp; &nbsp; &nbsp; &nbsp; &nbsp; &nbsp; &nbsp; &nbsp; &nbsp; &nbsp; &nbsp; &nbsp; &nbsp; &nbsp; &nbsp; &nbsp; &nbsp; &nbsp; &nbsp; &nbsp; &nbsp; &nbsp; &nbsp; &nbsp; &nbsp; &nbsp; &nbsp; &nbsp; &nbsp; &nbsp; &nbsp; &nbsp;if</strong> <em>expresion&nbsp;booleana</em>:&nbsp;</span></div>\n",
        "<div><span>&nbsp; &nbsp; &nbsp; &nbsp; &nbsp; &nbsp; &nbsp; &nbsp; &nbsp; &nbsp; &nbsp; &nbsp; &nbsp; &nbsp; &nbsp; &nbsp; &nbsp; &nbsp; &nbsp; &nbsp; &nbsp; &nbsp; &nbsp; &nbsp; &nbsp; &nbsp; &nbsp; &nbsp; &nbsp; &nbsp; &nbsp; &nbsp; &nbsp; &nbsp; &nbsp;&nbsp; &nbsp; &nbsp; instrucciones&nbsp;</span></div>\n",
        "<p></p>\n",
        "\n",
        "###**Diagrama de flujo**\n",
        "<div align=\"center\"><a href=\"https://ibb.co/xYH6mcd\"><img src=\"https://i.ibb.co/f9vH8KL/diagrama1.png\" alt=\"\" width=\"345px\" height=\"350px\"></a>\n",
        "\n"
      ]
    },
    {
      "cell_type": "markdown",
      "metadata": {
        "id": "waV5JmmIPmru"
      },
      "source": [
        "###**Ejemplo**"
      ]
    },
    {
      "cell_type": "code",
      "metadata": {
        "id": "WFCV7pozPYBp"
      },
      "source": [
        ""
      ],
      "execution_count": null,
      "outputs": []
    },
    {
      "cell_type": "markdown",
      "metadata": {
        "id": "h-DZueKdQRkm"
      },
      "source": [
        "La expresión determina si 10 es mayor que cinco. Como es así, se ejecuta la instrucción indentada y se imprime \"10 es mayor que 5\". Luego, se ejecuta la instrucción no indentada, que no forma parte de la instrucción **if** , y se muestra \"El programa ha finalizado\". Observe los dos puntos al final de la expresión en la instrucción **if** .\n"
      ]
    },
    {
      "cell_type": "markdown",
      "metadata": {
        "id": "UOhKgaJ1mThM"
      },
      "source": [
        "<p><height=\"45px\" src=\"<a href=\"https://ibb.co/pZYMC0T\"><img src=\"https://i.ibb.co/ZL1WsdZ/poll.png\" align=\"left\" alt=\"\" width=\"4%\" height=\"5%\"></a><p> <H3><strong>&nbsp;Ejercicio 1:</strong>¿Cuál es el resultado de este código?"
      ]
    },
    {
      "cell_type": "code",
      "metadata": {
        "id": "mqQSwQ_6RXvV"
      },
      "source": [
        ""
      ],
      "execution_count": null,
      "outputs": []
    },
    {
      "cell_type": "markdown",
      "metadata": {
        "id": "0LWPEZChR_Lu"
      },
      "source": [
        "###**Instrucciones if anidadas**\n",
        "Para realizar comprobaciones más complejas, las instrucciones **if** pueden ser anidadas, una dentro de la otra.\n",
        "Esto significa que la instruccón interna es parte de la instrucción externa. "
      ]
    },
    {
      "cell_type": "markdown",
      "metadata": {
        "id": "LGezXl6uUsz7"
      },
      "source": [
        "###**Ejemplo**"
      ]
    },
    {
      "cell_type": "code",
      "metadata": {
        "id": "2lIrvEq1U3di"
      },
      "source": [
        ""
      ],
      "execution_count": null,
      "outputs": []
    },
    {
      "cell_type": "markdown",
      "metadata": {
        "id": "_kThnM1UY3KN"
      },
      "source": [
        ""
      ]
    },
    {
      "cell_type": "markdown",
      "metadata": {
        "id": "-lzun1WamkDa"
      },
      "source": [
        "<p><height=\"45px\" src=\"<a href=\"https://ibb.co/pZYMC0T\"><img src=\"https://i.ibb.co/ZL1WsdZ/poll.png\" align=\"left\" alt=\"\" width=\"4%\" height=\"5%\"></a><p> <H3><strong>&nbsp;Ejercicio 1:</strong>¿Cuál es el resultado de este código?"
      ]
    },
    {
      "cell_type": "code",
      "metadata": {
        "id": "uSmM9w-PY99E"
      },
      "source": [
        ""
      ],
      "execution_count": null,
      "outputs": []
    },
    {
      "cell_type": "markdown",
      "metadata": {
        "id": "3o2O5jGyb5ep"
      },
      "source": [
        "## **Instrucción if-else**\n",
        "La instrucción **else** se puede usar despues de una instrucción **if**, y contiene un código que se llama cuando la instrucción **if** se evalúa como falsa. Como en las declaraciones **if**, el código dentro del bloque debe estar indentado.\n",
        "<font size=\"4\"> <div>\n",
        "<div><span><strong>&nbsp; &nbsp; &nbsp; &nbsp; &nbsp; &nbsp; &nbsp; &nbsp; &nbsp; &nbsp; &nbsp; &nbsp; &nbsp; &nbsp; &nbsp; &nbsp; &nbsp; &nbsp; &nbsp; &nbsp; &nbsp; &nbsp; &nbsp; &nbsp; &nbsp; &nbsp; &nbsp; &nbsp; &nbsp; &nbsp; &nbsp; &nbsp; &nbsp; &nbsp; &nbsp;if</strong> <em>expresión&nbsp;booleana</em>:&nbsp;</span></div>\n",
        "<div><span>&nbsp; &nbsp; &nbsp; &nbsp; &nbsp; &nbsp; &nbsp; &nbsp; &nbsp; &nbsp; &nbsp; &nbsp; &nbsp; &nbsp; &nbsp; &nbsp; &nbsp; &nbsp; &nbsp; &nbsp; &nbsp; &nbsp; &nbsp; &nbsp; &nbsp; &nbsp; &nbsp; &nbsp; &nbsp; &nbsp; &nbsp; &nbsp; &nbsp; &nbsp; &nbsp;&nbsp; &nbsp; &nbsp; instrucciones&nbsp;1</span></div>\n",
        "<div><span><strong>&nbsp; &nbsp; &nbsp; &nbsp; &nbsp; &nbsp; &nbsp; &nbsp; &nbsp; &nbsp; &nbsp; &nbsp; &nbsp; &nbsp; &nbsp; &nbsp; &nbsp; &nbsp; &nbsp; &nbsp; &nbsp; &nbsp; &nbsp; &nbsp; &nbsp; &nbsp; &nbsp; &nbsp; &nbsp; &nbsp; &nbsp; &nbsp; &nbsp; &nbsp; &nbsp;else</strong>:</span></div>\n",
        "<div><span>&nbsp; &nbsp; &nbsp; &nbsp; &nbsp; &nbsp; &nbsp; &nbsp; &nbsp; &nbsp; &nbsp; &nbsp; &nbsp; &nbsp; &nbsp; &nbsp; &nbsp; &nbsp; &nbsp; &nbsp; &nbsp; &nbsp; &nbsp; &nbsp; &nbsp; &nbsp; &nbsp; &nbsp; &nbsp; &nbsp; &nbsp; &nbsp; &nbsp; &nbsp; &nbsp;&nbsp;&nbsp; &nbsp; &nbsp; instrucciones&nbsp;2</span></div>\n",
        "</div>\n",
        "<p></p>\n",
        "\n",
        "### **Diagrama de flujo**\n",
        "<div align=\"center\"><a href=\"https://ibb.co/F5JnQTf\"><img src=\"https://i.ibb.co/HtYXc8M/diagrama-2.png\" alt=\"\" width=\"345px\" height=\"350px\"></a>\n",
        "\n"
      ]
    },
    {
      "cell_type": "markdown",
      "metadata": {
        "id": "0DSBL4z2rI1k"
      },
      "source": [
        "###**Ejemplo:**"
      ]
    },
    {
      "cell_type": "code",
      "metadata": {
        "id": "EYK_l6fRnBlv"
      },
      "source": [
        ""
      ],
      "execution_count": null,
      "outputs": []
    },
    {
      "cell_type": "markdown",
      "metadata": {
        "id": "I5cuwPwV5xat"
      },
      "source": [
        "<p><height=\"45px\" src=\"<a href=\"https://ibb.co/pZYMC0T\"><img src=\"https://i.ibb.co/ZL1WsdZ/poll.png\" align=\"left\" alt=\"\" width=\"4%\" height=\"5%\"></a><p> <H3><strong>&nbsp;Ejercicio 2:</strong> &nbsp;¿Cuál es el resultado de este código?"
      ]
    },
    {
      "cell_type": "code",
      "metadata": {
        "id": "qoyocLnk50qZ"
      },
      "source": [
        ""
      ],
      "execution_count": null,
      "outputs": []
    },
    {
      "cell_type": "markdown",
      "metadata": {
        "id": "0NpDjqwX9Q4m"
      },
      "source": [
        "<p><height=\"45px\" src=\"<a href=\"https://ibb.co/pZYMC0T\"><img src=\"https://i.ibb.co/ZL1WsdZ/poll.png\" align=\"left\" alt=\"\" width=\"4%\" height=\"5%\"></a><p> <H3><strong>&nbsp;Ejercicio 3:</strong> &nbsp;¿Cuál es el resultado de este código?"
      ]
    },
    {
      "cell_type": "code",
      "metadata": {
        "id": "M063JaHb9af5"
      },
      "source": [
        "\n",
        "  "
      ],
      "execution_count": null,
      "outputs": []
    },
    {
      "cell_type": "markdown",
      "metadata": {
        "id": "0ApAaq0Z60xm"
      },
      "source": [
        "###**Instrucciones if-else anidadas**\n",
        "Se pueden encadenar declaraciones de \"**if**\" y \"**else**\" para determinar qué opción de una serie de posibilidades es la verdadera."
      ]
    },
    {
      "cell_type": "code",
      "metadata": {
        "id": "ex8Pl0HM7TDA"
      },
      "source": [
        "num = 7\n",
        "if num == 5:\n",
        "  print(\"El número es 5\")\n",
        "else: \n",
        "  if num == 11:\n",
        "    print(\"El número es 11\")\n",
        "  else:\n",
        "    if num == 7:\n",
        "      print(\"El número es 7\")\n",
        "    else: \n",
        "      print(\"El número no es 5, 7 y 11\")"
      ],
      "execution_count": null,
      "outputs": []
    },
    {
      "cell_type": "markdown",
      "metadata": {
        "id": "FaF3NZgnd890"
      },
      "source": [
        "## **Instrucción elif**\n",
        "\n",
        "La instruccion **elif** (abreviatura de **else if**) es un atajo que se utiliza para encadenar las declaraciones de **if** y **else**. Una serie de declaraciones if elif pueden tener un bloque final else, que se llama si ninguna de las expresiones if o elif es verdadera.\n",
        "\n",
        "\n",
        "<p><strong>&nbsp; &nbsp; &nbsp; &nbsp; &nbsp; &nbsp; &nbsp; &nbsp; &nbsp; &nbsp; &nbsp; &nbsp; &nbsp; &nbsp; &nbsp; &nbsp; &nbsp; &nbsp; &nbsp; &nbsp; &nbsp; &nbsp; &nbsp; &nbsp; &nbsp; &nbsp; &nbsp; &nbsp; &nbsp; &nbsp; &nbsp; if </strong><em>expresi&oacute;n booleana 1</em><strong>:</strong></p>\n",
        "<p>&nbsp; &nbsp; &nbsp; &nbsp; &nbsp; &nbsp; &nbsp; &nbsp; &nbsp; &nbsp; &nbsp; &nbsp; &nbsp; &nbsp; &nbsp; &nbsp; &nbsp; &nbsp; &nbsp; &nbsp; &nbsp; &nbsp; &nbsp; &nbsp; &nbsp; &nbsp; &nbsp; &nbsp; &nbsp; &nbsp; &nbsp; &nbsp; &nbsp; &nbsp; instrucci&oacute;n 1</p>\n",
        "<p><strong>&nbsp; &nbsp; &nbsp; &nbsp; &nbsp; &nbsp; &nbsp; &nbsp; &nbsp; &nbsp; &nbsp; &nbsp; &nbsp; &nbsp; &nbsp; &nbsp; &nbsp; &nbsp; &nbsp; &nbsp; &nbsp; &nbsp; &nbsp; &nbsp; &nbsp; &nbsp; &nbsp; &nbsp; &nbsp; &nbsp; &nbsp; elif&nbsp;&nbsp;</strong>expresi&oacute;n booleana 2:&nbsp;</p>\n",
        "<p>&nbsp; &nbsp; &nbsp; &nbsp; &nbsp; &nbsp; &nbsp; &nbsp; &nbsp; &nbsp; &nbsp; &nbsp; &nbsp; &nbsp; &nbsp; &nbsp; &nbsp; &nbsp; &nbsp; &nbsp; &nbsp; &nbsp; &nbsp; &nbsp; &nbsp; &nbsp; &nbsp; &nbsp; &nbsp; &nbsp; &nbsp; &nbsp; &nbsp; &nbsp; instrucci&oacute;n 2</p>\n",
        "<p>&nbsp; &nbsp; &nbsp; &nbsp; &nbsp; &nbsp; &nbsp; &nbsp; &nbsp; &nbsp; &nbsp; &nbsp; &nbsp; &nbsp; &nbsp; &nbsp; &nbsp; &nbsp; &nbsp; &nbsp; &nbsp; &nbsp; &nbsp; &nbsp; &nbsp; &nbsp; &nbsp; &nbsp; &nbsp; &nbsp; ....</p>\n",
        "<p><strong>&nbsp; &nbsp; &nbsp; &nbsp; &nbsp; &nbsp; &nbsp; &nbsp; &nbsp; &nbsp; &nbsp; &nbsp; &nbsp; &nbsp; &nbsp; &nbsp; &nbsp; &nbsp; &nbsp; &nbsp; &nbsp; &nbsp; &nbsp; &nbsp; &nbsp; &nbsp; &nbsp; &nbsp; &nbsp; &nbsp; &nbsp; elif&nbsp;&nbsp;</strong>expresi&oacute;n booleana n:</p>\n",
        "<p>&nbsp; &nbsp; &nbsp; &nbsp; &nbsp; &nbsp; &nbsp; &nbsp; &nbsp; &nbsp; &nbsp; &nbsp; &nbsp; &nbsp; &nbsp; &nbsp; &nbsp; &nbsp; &nbsp; &nbsp; &nbsp; &nbsp; &nbsp; &nbsp; &nbsp; &nbsp; &nbsp; &nbsp; &nbsp; &nbsp; &nbsp; &nbsp; &nbsp; &nbsp; instrucci&oacute;n n</p>\n",
        "<p><strong>&nbsp; &nbsp; &nbsp; &nbsp; &nbsp; &nbsp; &nbsp; &nbsp; &nbsp; &nbsp; &nbsp; &nbsp; &nbsp; &nbsp; &nbsp; &nbsp; &nbsp; &nbsp; &nbsp; &nbsp; &nbsp; &nbsp; &nbsp; &nbsp; &nbsp; &nbsp; &nbsp; &nbsp; &nbsp; &nbsp; &nbsp; else:</strong></p>\n",
        "<p>&nbsp; &nbsp; &nbsp; &nbsp; &nbsp; &nbsp; &nbsp; &nbsp; &nbsp; &nbsp; &nbsp; &nbsp; &nbsp; &nbsp; &nbsp; &nbsp; &nbsp; &nbsp; &nbsp; &nbsp; &nbsp; &nbsp; &nbsp; &nbsp; &nbsp; &nbsp; &nbsp; &nbsp; &nbsp; &nbsp; &nbsp; &nbsp; &nbsp; &nbsp; instrucci&oacute;n n+1</p>\n",
        "\n",
        "\n",
        "\n",
        "### **Diagrama de flujo**\n",
        "<div align=\"center\"><a href=\"https://ibb.co/7pZ8sLh\"><img src=\"https://i.ibb.co/C9YNRDL/diagrama-3.png\" alt=\"\" width=\"650px\" height=\"500px\"></a>"
      ]
    },
    {
      "cell_type": "markdown",
      "source": [
        "## **Referente para la edición de videos**"
      ],
      "metadata": {
        "id": "XMpz4o4gmUMj"
      }
    },
    {
      "cell_type": "code",
      "source": [
        "from IPython.display import YouTubeVideo\n",
        "YouTubeVideo('eoR7vbVM7j8', width=500)"
      ],
      "metadata": {
        "colab": {
          "base_uri": "https://localhost:8080/",
          "height": 321
        },
        "id": "PckPmMSalttY",
        "outputId": "03144fed-c3ee-4527-9c83-a8cf388e75dc"
      },
      "execution_count": 6,
      "outputs": [
        {
          "output_type": "execute_result",
          "data": {
            "text/html": [
              "\n",
              "        <iframe\n",
              "            width=\"500\"\n",
              "            height=\"300\"\n",
              "            src=\"https://www.youtube.com/embed/eoR7vbVM7j8\"\n",
              "            frameborder=\"0\"\n",
              "            allowfullscreen\n",
              "        ></iframe>\n",
              "        "
            ],
            "text/plain": [
              "<IPython.lib.display.YouTubeVideo at 0x7f0ad356b390>"
            ],
            "image/jpeg": "[encoded data removed]"
          },
          "metadata": {},
          "execution_count": 6
        }
      ]
    },
    {
      "cell_type": "markdown",
      "source": [
        "## **EJERCICIO DE PRACTICA DE LA UNIDAD** \n",
        "Completa el siguiente código, asignando el valor correcto a\n",
        "la variable x para obtener la salida `[1, 2, 4, 2, 5, 6, 7]`.\n"
      ],
      "metadata": {
        "id": "wc4uUgGnm8VE"
      }
    },
    {
      "cell_type": "code",
      "source": [
        "lista = [1,2,4,5,6,7]\n",
        "x =\n",
        "y = 2\n",
        "if x <= len(lista) and x%2==0:\n",
        "lista.append(x)\n",
        "elif x > min(lista) and x not in lista:\n",
        "lista.insert(x,y)\n",
        "else:\n",
        "lista.pop()\n",
        "print(lista)"
      ],
      "metadata": {
        "id": "8GIC_GVmm7Km"
      },
      "execution_count": null,
      "outputs": []
    },
    {
      "cell_type": "markdown",
      "source": [
        "${\\color{Tomato} {\\text{NOTA : pensar en la calificación automática del ejercicio anterior}} }$"
      ],
      "metadata": {
        "id": "mqyzsrAos06h"
      }
    },
    {
      "cell_type": "markdown",
      "source": [
        "## **PROYECTO DE PRACTICA DE LA UNIDAD**\n",
        "\n",
        "El índice de masa corporal (IMC) se calcula con la siguiente expresión:\n",
        "\n",
        "$$IMC=\\dfrac{peso[kg]}{estatura [m^2]}$$\n",
        "\n",
        "con el valor del IMC se puede averiguar la composición corporal usando la siguiente tabla:\n",
        "####<center> **TABLA DE PRECEDENCIA DE LOS OPERADORES**\n",
        "|               Operador               |                     Descripción                     |\n",
        "|:------------------------------------:|:---------------------------------------------------:|\n",
        "|                  **                  |                   Exponenciación                    |\n",
        "|              *, /, %, //             | Multiplicación, división,  módulo y división entera |\n",
        "|                 + , -                |                     Suma y resta                    |\n",
        "|         <, <=,>,> = ,! =, ==         |              Operadores de comparación              |\n",
        "|                  not                 |                    \"No\" booleano                    |\n",
        "|                  and                 |                     \"Y\" booleano                    |\n",
        "|                  or                  |                     \"O\" booleano                    |\n",
        "| =,% =, / =, //=-, -=, +=, * = , ** = |               Operadores de asignación              |"
      ],
      "metadata": {
        "id": "PmUwBHxdn42y"
      }
    },
    {
      "cell_type": "code",
      "source": [
        ""
      ],
      "metadata": {
        "id": "uu_Rx6QYn72c"
      },
      "execution_count": null,
      "outputs": []
    },
    {
      "cell_type": "markdown",
      "source": [
        "## **REALIZA EL ANÁLISIS DESCRIPTÍVO DE LOS SIGUIENTES DATOS IMPORTADOS DESDE GITHUB**"
      ],
      "metadata": {
        "id": "tKGbKZbBoMYa"
      }
    },
    {
      "cell_type": "code",
      "source": [
        "import pandas as pd\n",
        "pd.read_csv(\"https://raw.githubusercontent.com/PythonFUA/Introduccion-al-Machine-Learning/main/Datasets/titanic.csv\")"
      ],
      "metadata": {
        "colab": {
          "base_uri": "https://localhost:8080/",
          "height": 423
        },
        "id": "1dII5Tz3oIBG",
        "outputId": "10079d84-41a0-402e-c3d6-cd0240e29b66"
      },
      "execution_count": 7,
      "outputs": [
        {
          "output_type": "execute_result",
          "data": {
            "text/html": [
              "\n",
              "  <div id=\"df-80b67c2d-4d57-4150-a600-a9a521b96db4\">\n",
              "    <div class=\"colab-df-container\">\n",
              "      <div>\n",
              "<style scoped>\n",
              "    .dataframe tbody tr th:only-of-type {\n",
              "        vertical-align: middle;\n",
              "    }\n",
              "\n",
              "    .dataframe tbody tr th {\n",
              "        vertical-align: top;\n",
              "    }\n",
              "\n",
              "    .dataframe thead th {\n",
              "        text-align: right;\n",
              "    }\n",
              "</style>\n",
              "<table border=\"1\" class=\"dataframe\">\n",
              "  <thead>\n",
              "    <tr style=\"text-align: right;\">\n",
              "      <th></th>\n",
              "      <th>PassengerId</th>\n",
              "      <th>Survived</th>\n",
              "      <th>Pclass</th>\n",
              "      <th>Name</th>\n",
              "      <th>Sex</th>\n",
              "      <th>Age</th>\n",
              "      <th>SibSp</th>\n",
              "      <th>Parch</th>\n",
              "      <th>Ticket</th>\n",
              "      <th>Fare</th>\n",
              "      <th>Cabin</th>\n",
              "      <th>Embarked</th>\n",
              "    </tr>\n",
              "  </thead>\n",
              "  <tbody>\n",
              "    <tr>\n",
              "      <th>0</th>\n",
              "      <td>1</td>\n",
              "      <td>0</td>\n",
              "      <td>3</td>\n",
              "      <td>Braund, Mr. Owen Harris</td>\n",
              "      <td>male</td>\n",
              "      <td>22.0</td>\n",
              "      <td>1</td>\n",
              "      <td>0</td>\n",
              "      <td>A/5 21171</td>\n",
              "      <td>7.2500</td>\n",
              "      <td>NaN</td>\n",
              "      <td>S</td>\n",
              "    </tr>\n",
              "    <tr>\n",
              "      <th>1</th>\n",
              "      <td>2</td>\n",
              "      <td>1</td>\n",
              "      <td>1</td>\n",
              "      <td>Cumings, Mrs. John Bradley (Florence Briggs Th...</td>\n",
              "      <td>female</td>\n",
              "      <td>38.0</td>\n",
              "      <td>1</td>\n",
              "      <td>0</td>\n",
              "      <td>PC 17599</td>\n",
              "      <td>71.2833</td>\n",
              "      <td>C85</td>\n",
              "      <td>C</td>\n",
              "    </tr>\n",
              "    <tr>\n",
              "      <th>2</th>\n",
              "      <td>3</td>\n",
              "      <td>1</td>\n",
              "      <td>3</td>\n",
              "      <td>Heikkinen, Miss. Laina</td>\n",
              "      <td>female</td>\n",
              "      <td>26.0</td>\n",
              "      <td>0</td>\n",
              "      <td>0</td>\n",
              "      <td>STON/O2. 3101282</td>\n",
              "      <td>7.9250</td>\n",
              "      <td>NaN</td>\n",
              "      <td>S</td>\n",
              "    </tr>\n",
              "    <tr>\n",
              "      <th>3</th>\n",
              "      <td>4</td>\n",
              "      <td>1</td>\n",
              "      <td>1</td>\n",
              "      <td>Futrelle, Mrs. Jacques Heath (Lily May Peel)</td>\n",
              "      <td>female</td>\n",
              "      <td>35.0</td>\n",
              "      <td>1</td>\n",
              "      <td>0</td>\n",
              "      <td>113803</td>\n",
              "      <td>53.1000</td>\n",
              "      <td>C123</td>\n",
              "      <td>S</td>\n",
              "    </tr>\n",
              "    <tr>\n",
              "      <th>4</th>\n",
              "      <td>5</td>\n",
              "      <td>0</td>\n",
              "      <td>3</td>\n",
              "      <td>Allen, Mr. William Henry</td>\n",
              "      <td>male</td>\n",
              "      <td>35.0</td>\n",
              "      <td>0</td>\n",
              "      <td>0</td>\n",
              "      <td>373450</td>\n",
              "      <td>8.0500</td>\n",
              "      <td>NaN</td>\n",
              "      <td>S</td>\n",
              "    </tr>\n",
              "    <tr>\n",
              "      <th>...</th>\n",
              "      <td>...</td>\n",
              "      <td>...</td>\n",
              "      <td>...</td>\n",
              "      <td>...</td>\n",
              "      <td>...</td>\n",
              "      <td>...</td>\n",
              "      <td>...</td>\n",
              "      <td>...</td>\n",
              "      <td>...</td>\n",
              "      <td>...</td>\n",
              "      <td>...</td>\n",
              "      <td>...</td>\n",
              "    </tr>\n",
              "    <tr>\n",
              "      <th>886</th>\n",
              "      <td>887</td>\n",
              "      <td>0</td>\n",
              "      <td>2</td>\n",
              "      <td>Montvila, Rev. Juozas</td>\n",
              "      <td>male</td>\n",
              "      <td>27.0</td>\n",
              "      <td>0</td>\n",
              "      <td>0</td>\n",
              "      <td>211536</td>\n",
              "      <td>13.0000</td>\n",
              "      <td>NaN</td>\n",
              "      <td>S</td>\n",
              "    </tr>\n",
              "    <tr>\n",
              "      <th>887</th>\n",
              "      <td>888</td>\n",
              "      <td>1</td>\n",
              "      <td>1</td>\n",
              "      <td>Graham, Miss. Margaret Edith</td>\n",
              "      <td>female</td>\n",
              "      <td>19.0</td>\n",
              "      <td>0</td>\n",
              "      <td>0</td>\n",
              "      <td>112053</td>\n",
              "      <td>30.0000</td>\n",
              "      <td>B42</td>\n",
              "      <td>S</td>\n",
              "    </tr>\n",
              "    <tr>\n",
              "      <th>888</th>\n",
              "      <td>889</td>\n",
              "      <td>0</td>\n",
              "      <td>3</td>\n",
              "      <td>Johnston, Miss. Catherine Helen \"Carrie\"</td>\n",
              "      <td>female</td>\n",
              "      <td>NaN</td>\n",
              "      <td>1</td>\n",
              "      <td>2</td>\n",
              "      <td>W./C. 6607</td>\n",
              "      <td>23.4500</td>\n",
              "      <td>NaN</td>\n",
              "      <td>S</td>\n",
              "    </tr>\n",
              "    <tr>\n",
              "      <th>889</th>\n",
              "      <td>890</td>\n",
              "      <td>1</td>\n",
              "      <td>1</td>\n",
              "      <td>Behr, Mr. Karl Howell</td>\n",
              "      <td>male</td>\n",
              "      <td>26.0</td>\n",
              "      <td>0</td>\n",
              "      <td>0</td>\n",
              "      <td>111369</td>\n",
              "      <td>30.0000</td>\n",
              "      <td>C148</td>\n",
              "      <td>C</td>\n",
              "    </tr>\n",
              "    <tr>\n",
              "      <th>890</th>\n",
              "      <td>891</td>\n",
              "      <td>0</td>\n",
              "      <td>3</td>\n",
              "      <td>Dooley, Mr. Patrick</td>\n",
              "      <td>male</td>\n",
              "      <td>32.0</td>\n",
              "      <td>0</td>\n",
              "      <td>0</td>\n",
              "      <td>370376</td>\n",
              "      <td>7.7500</td>\n",
              "      <td>NaN</td>\n",
              "      <td>Q</td>\n",
              "    </tr>\n",
              "  </tbody>\n",
              "</table>\n",
              "<p>891 rows × 12 columns</p>\n",
              "</div>\n",
              "      <button class=\"colab-df-convert\" onclick=\"convertToInteractive('df-80b67c2d-4d57-4150-a600-a9a521b96db4')\"\n",
              "              title=\"Convert this dataframe to an interactive table.\"\n",
              "              style=\"display:none;\">\n",
              "        \n",
              "  <svg xmlns=\"http://www.w3.org/2000/svg\" height=\"24px\"viewBox=\"0 0 24 24\"\n",
              "       width=\"24px\">\n",
              "    <path d=\"M0 0h24v24H0V0z\" fill=\"none\"/>\n",
              "    <path d=\"M18.56 5.44l.94 2.06.94-2.06 2.06-.94-2.06-.94-.94-2.06-.94 2.06-2.06.94zm-11 1L8.5 8.5l.94-2.06 2.06-.94-2.06-.94L8.5 2.5l-.94 2.06-2.06.94zm10 10l.94 2.06.94-2.06 2.06-.94-2.06-.94-.94-2.06-.94 2.06-2.06.94z\"/><path d=\"M17.41 7.96l-1.37-1.37c-.4-.4-.92-.59-1.43-.59-.52 0-1.04.2-1.43.59L10.3 9.45l-7.72 7.72c-.78.78-.78 2.05 0 2.83L4 21.41c.39.39.9.59 1.41.59.51 0 1.02-.2 1.41-.59l7.78-7.78 2.81-2.81c.8-.78.8-2.07 0-2.86zM5.41 20L4 18.59l7.72-7.72 1.47 1.35L5.41 20z\"/>\n",
              "  </svg>\n",
              "      </button>\n",
              "      \n",
              "  <style>\n",
              "    .colab-df-container {\n",
              "      display:flex;\n",
              "      flex-wrap:wrap;\n",
              "      gap: 12px;\n",
              "    }\n",
              "\n",
              "    .colab-df-convert {\n",
              "      background-color: #E8F0FE;\n",
              "      border: none;\n",
              "      border-radius: 50%;\n",
              "      cursor: pointer;\n",
              "      display: none;\n",
              "      fill: #1967D2;\n",
              "      height: 32px;\n",
              "      padding: 0 0 0 0;\n",
              "      width: 32px;\n",
              "    }\n",
              "\n",
              "    .colab-df-convert:hover {\n",
              "      background-color: #E2EBFA;\n",
              "      box-shadow: 0px 1px 2px rgba(60, 64, 67, 0.3), 0px 1px 3px 1px rgba(60, 64, 67, 0.15);\n",
              "      fill: #174EA6;\n",
              "    }\n",
              "\n",
              "    [theme=dark] .colab-df-convert {\n",
              "      background-color: #3B4455;\n",
              "      fill: #D2E3FC;\n",
              "    }\n",
              "\n",
              "    [theme=dark] .colab-df-convert:hover {\n",
              "      background-color: #434B5C;\n",
              "      box-shadow: 0px 1px 3px 1px rgba(0, 0, 0, 0.15);\n",
              "      filter: drop-shadow(0px 1px 2px rgba(0, 0, 0, 0.3));\n",
              "      fill: #FFFFFF;\n",
              "    }\n",
              "  </style>\n",
              "\n",
              "      <script>\n",
              "        const buttonEl =\n",
              "          document.querySelector('#df-80b67c2d-4d57-4150-a600-a9a521b96db4 button.colab-df-convert');\n",
              "        buttonEl.style.display =\n",
              "          google.colab.kernel.accessAllowed ? 'block' : 'none';\n",
              "\n",
              "        async function convertToInteractive(key) {\n",
              "          const element = document.querySelector('#df-80b67c2d-4d57-4150-a600-a9a521b96db4');\n",
              "          const dataTable =\n",
              "            await google.colab.kernel.invokeFunction('convertToInteractive',\n",
              "                                                     [key], {});\n",
              "          if (!dataTable) return;\n",
              "\n",
              "          const docLinkHtml = 'Like what you see? Visit the ' +\n",
              "            '<a target=\"_blank\" href=https://colab.research.google.com/notebooks/data_table.ipynb>data table notebook</a>'\n",
              "            + ' to learn more about interactive tables.';\n",
              "          element.innerHTML = '';\n",
              "          dataTable['output_type'] = 'display_data';\n",
              "          await google.colab.output.renderOutput(dataTable, element);\n",
              "          const docLink = document.createElement('div');\n",
              "          docLink.innerHTML = docLinkHtml;\n",
              "          element.appendChild(docLink);\n",
              "        }\n",
              "      </script>\n",
              "    </div>\n",
              "  </div>\n",
              "  "
            ],
            "text/plain": [
              "     PassengerId  Survived  Pclass  \\\n",
              "0              1         0       3   \n",
              "1              2         1       1   \n",
              "2              3         1       3   \n",
              "3              4         1       1   \n",
              "4              5         0       3   \n",
              "..           ...       ...     ...   \n",
              "886          887         0       2   \n",
              "887          888         1       1   \n",
              "888          889         0       3   \n",
              "889          890         1       1   \n",
              "890          891         0       3   \n",
              "\n",
              "                                                  Name     Sex   Age  SibSp  \\\n",
              "0                              Braund, Mr. Owen Harris    male  22.0      1   \n",
              "1    Cumings, Mrs. John Bradley (Florence Briggs Th...  female  38.0      1   \n",
              "2                               Heikkinen, Miss. Laina  female  26.0      0   \n",
              "3         Futrelle, Mrs. Jacques Heath (Lily May Peel)  female  35.0      1   \n",
              "4                             Allen, Mr. William Henry    male  35.0      0   \n",
              "..                                                 ...     ...   ...    ...   \n",
              "886                              Montvila, Rev. Juozas    male  27.0      0   \n",
              "887                       Graham, Miss. Margaret Edith  female  19.0      0   \n",
              "888           Johnston, Miss. Catherine Helen \"Carrie\"  female   NaN      1   \n",
              "889                              Behr, Mr. Karl Howell    male  26.0      0   \n",
              "890                                Dooley, Mr. Patrick    male  32.0      0   \n",
              "\n",
              "     Parch            Ticket     Fare Cabin Embarked  \n",
              "0        0         A/5 21171   7.2500   NaN        S  \n",
              "1        0          PC 17599  71.2833   C85        C  \n",
              "2        0  STON/O2. 3101282   7.9250   NaN        S  \n",
              "3        0            113803  53.1000  C123        S  \n",
              "4        0            373450   8.0500   NaN        S  \n",
              "..     ...               ...      ...   ...      ...  \n",
              "886      0            211536  13.0000   NaN        S  \n",
              "887      0            112053  30.0000   B42        S  \n",
              "888      2        W./C. 6607  23.4500   NaN        S  \n",
              "889      0            111369  30.0000  C148        C  \n",
              "890      0            370376   7.7500   NaN        Q  \n",
              "\n",
              "[891 rows x 12 columns]"
            ]
          },
          "metadata": {},
          "execution_count": 7
        }
      ]
    }
  ]
}